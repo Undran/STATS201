# Cell 1: System Configuration Check
import sys
import os
import numpy as np
import pandas as pd
import matplotlib.pyplot as plt
from pathlib import Path
import requests
import zipfile

print("Python version:", sys.version)
print("Pandas version:", pd.__version__)
print("NumPy version:", np.__version__)

# Cell 2: Define Data URL and Path (From Zenodo)
# We will download a single sample file for the experiment
data_url = "https://zenodo.org/record/6524310/files/macroscale.csv.zip?download=1"
data_dir = Path('../data')
data_dir.mkdir(parents=True, exist_ok=True)
zip_path = data_dir / "macroscale_sample.zip"
csv_path = data_dir / "macroscale.csv"

# Cell 3: Download and Extract Data (if not already present)
# This tests network connectivity and disk I/O
if not csv_path.exists():
    print("Downloading sample data from Zenodo (~70 MB)...")
    r = requests.get(data_url)
    with open(zip_path, 'wb') as f:
        f.write(r.content)
    print("Download complete. Extracting...")
    with zipfile.ZipFile(zip_path, 'r') as zip_ref:
        zip_ref.extractall(data_dir)
    print("Extraction complete.")
else:
    print("Data already downloaded.")

# Cell 4: Load a Subset of the Data (System Memory Test)
# We load only the first 100,000 rows to manage memory in Colab
print("Loading a subset of the data...")
df = pd.read_csv(csv_path, nrows=100000, parse_dates=['timestamp'])
print(f"Successfully loaded {len(df)} rows.")
print("Dataset columns:", df.columns.tolist())

# Cell 5: Basic Data Inspection & System Performance
print("\nBasic Info:")
print(df.info())
print("\nDescriptive Statistics:")
print(df[['load', 'solar', 'wind', 'temperature']].describe())

# Cell 6: Simple Visualization (Tests matplotlib and system)
plt.figure(figsize=(12, 6))
plt.plot(df['timestamp'].head(500), df['load'].head(500), label='Load (MW)')
plt.plot(df['timestamp'].head(500), df['solar'].head(500), label='Solar (MW)')
plt.title('Macroscale Energy Data: Load vs. Solar Generation (First 500 points)')
plt.xlabel('Timestamp (UTC)')
plt.ylabel('Megawatts (MW)')
plt.legend()
plt.xticks(rotation=45)
plt.tight_layout()
plt.show()

# Cell 7: Calculate a simple correlation (Tests NumPy/SciKit-learn)
correlation_matrix = df[['load', 'solar', 'wind', 'temperature']].corr()
print("\nCorrelation Matrix:")
print(correlation_matrix)
